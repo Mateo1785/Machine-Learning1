{
 "cells": [
  {
   "cell_type": "markdown",
   "id": "2b30b278-37aa-46ad-9e03-5e2f9ded18a7",
   "metadata": {},
   "source": [
    "# Introduccion\n",
    "Este es un documento que me permite entender las bases de este lenguaje de programacion.<br>\n",
    "<img src=\"\">\n",
    "* Python lenguaje de programacion\n",
    "* Java lenguaje de programacion\n",
    "* "
   ]
  }
 ],
 "metadata": {
  "kernelspec": {
   "display_name": "Python [conda env:base] *",
   "language": "python",
   "name": "conda-base-py"
  },
  "language_info": {
   "codemirror_mode": {
    "name": "ipython",
    "version": 3
   },
   "file_extension": ".py",
   "mimetype": "text/x-python",
   "name": "python",
   "nbconvert_exporter": "python",
   "pygments_lexer": "ipython3",
   "version": "3.13.5"
  }
 },
 "nbformat": 4,
 "nbformat_minor": 5
}
